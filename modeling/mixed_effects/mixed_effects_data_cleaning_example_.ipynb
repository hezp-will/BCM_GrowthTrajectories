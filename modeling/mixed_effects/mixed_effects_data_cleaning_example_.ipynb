{
  "cells": [
    {
      "cell_type": "markdown",
      "metadata": {
        "id": "1yqPlxkIGS5Y"
      },
      "source": [
        "## Initial Data Import"
      ]
    },
    {
      "cell_type": "code",
      "execution_count": 1,
      "metadata": {
        "id": "wAijAe5XgNaa"
      },
      "outputs": [],
      "source": [
        "import pandas as pd\n",
        "import numpy as np\n",
        "from mixed_effects_cleaning_data import melt_data\n"
      ]
    },
    {
      "cell_type": "markdown",
      "metadata": {
        "id": "C3Id9S1desGL"
      },
      "source": [
        "## Import cleaned dataset from data directory\n"
      ]
    },
    {
      "cell_type": "code",
      "execution_count": 2,
      "metadata": {
        "id": "o-mbh3OHevH7"
      },
      "outputs": [],
      "source": [
        "# read in cleaned student data\n",
        "all_df = pd.read_csv('../../data_directory/student_data_cleaned.csv')"
      ]
    },
    {
      "cell_type": "markdown",
      "metadata": {
        "id": "PceBrauox1p1"
      },
      "source": [
        "# Create Merged dataset\n",
        "\n",
        "Running this function will export a melted dataset to the data_directory that will be ready to be used for mixed-effects modeling\n"
      ]
    },
    {
      "cell_type": "code",
      "execution_count": 3,
      "metadata": {
        "id": "6Hmva2Lhhk32"
      },
      "outputs": [],
      "source": [
        "# create melted dataset and export to data_directory\n",
        "melt_data(all_df)"
      ]
    }
  ],
  "metadata": {
    "colab": {
      "provenance": []
    },
    "kernelspec": {
      "display_name": "Python 3",
      "name": "python3"
    },
    "language_info": {
      "codemirror_mode": {
        "name": "ipython",
        "version": 3
      },
      "file_extension": ".py",
      "mimetype": "text/x-python",
      "name": "python",
      "nbconvert_exporter": "python",
      "pygments_lexer": "ipython3",
      "version": "3.11.6"
    }
  },
  "nbformat": 4,
  "nbformat_minor": 0
}
