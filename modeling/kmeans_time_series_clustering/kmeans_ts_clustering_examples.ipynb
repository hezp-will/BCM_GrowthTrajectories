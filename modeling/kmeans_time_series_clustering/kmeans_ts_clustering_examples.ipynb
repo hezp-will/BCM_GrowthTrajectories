{
 "cells": [
  {
   "cell_type": "code",
   "execution_count": null,
   "id": "780ca420",
   "metadata": {},
   "outputs": [],
   "source": [
    "import kmeans_ts_clustering\n",
    "import pandas as pd\n",
    "import numpy as np"
   ]
  },
  {
   "cell_type": "code",
   "execution_count": null,
   "id": "01d95492",
   "metadata": {},
   "outputs": [],
   "source": [
    "# import data with your own file path\n",
    "students = pd.read_csv('../../data_dictionary/growth.csv').iloc[:, 2:]\n",
    "students.head(1)"
   ]
  },
  {
   "cell_type": "code",
   "execution_count": null,
   "id": "732c7c3a",
   "metadata": {},
   "outputs": [],
   "source": [
    "# check the number of complete records\n",
    "len(students)"
   ]
  },
  {
   "cell_type": "code",
   "execution_count": null,
   "id": "32ad5ec3",
   "metadata": {},
   "outputs": [],
   "source": [
    "# load data with existing group labels\n",
    "students_with_groups = pd.read_csv('./data_dictionary/trajgps.csv').iloc[:, [0,-1]].drop_duplicates(subset=['id'])\n",
    "print(len(students_with_groups))\n",
    "students_with_groups.head()"
   ]
  },
  {
   "cell_type": "code",
   "execution_count": null,
   "id": "0711c4f1",
   "metadata": {},
   "outputs": [],
   "source": [
    "# merge the labels\n",
    "students = pd.merge(students, students_with_groups[['id', 'GROUP']], on='id', how='inner')\n",
    "print(len(students))\n",
    "students.head()"
   ]
  },
  {
   "cell_type": "code",
   "execution_count": null,
   "id": "6409b04a",
   "metadata": {},
   "outputs": [],
   "source": [
    "# get BMIz time series\n",
    "# the variable bmiz stores time series of BMI z-scores for each student\n",
    "bmiz = kmeans_ts_clustering.bmiz_time_series(students)\n",
    "bmiz.head()"
   ]
  },
  {
   "cell_type": "code",
   "execution_count": null,
   "id": "1c5d1f96",
   "metadata": {},
   "outputs": [],
   "source": [
    "# get bmipbool time series\n",
    "# the variable bmipbool stores time series of whether the BMI percentile\n",
    "# >= 85th (indicating overweight/obese) for each student\n",
    "bmipbool = kmeans_ts_clustering.bmipbool_time_series(students)\n",
    "bmipbool.head()"
   ]
  },
  {
   "cell_type": "code",
   "execution_count": null,
   "id": "8c5e2a2b",
   "metadata": {},
   "outputs": [],
   "source": [
    "# add columns of bmiz changes, bmi changes, and bmi percentage changes\n",
    "kmeans_ts_clustering.add_changes_columns(students)"
   ]
  },
  {
   "cell_type": "code",
   "execution_count": null,
   "id": "0df84ca6",
   "metadata": {},
   "outputs": [],
   "source": [
    "# check the updates\n",
    "# chg_bmiz stores time series of changes in BMI z-scores for each student\n",
    "chg_bmiz = students.loc[:, 'chg_bmiz_1':'chg_bmiz_10']\n",
    "chg_bmiz.head()"
   ]
  },
  {
   "cell_type": "code",
   "execution_count": null,
   "id": "5d101e67",
   "metadata": {},
   "outputs": [],
   "source": [
    "# percent_chg_bmi stores time series of percentage changes in raw BMI for each student\n",
    "percent_chg_bmi = students.loc[:, 'percent_chg_bmi_1':'percent_chg_bmi_10']\n",
    "percent_chg_bmi.head()"
   ]
  },
  {
   "cell_type": "code",
   "execution_count": null,
   "id": "ad30e3be",
   "metadata": {
    "scrolled": true
   },
   "outputs": [],
   "source": [
    "# chg_bmi stores time series of changes in raw BMI for each student\n",
    "chg_bmi = students.loc[:, 'chg_bmi_1':'chg_bmi_10']\n",
    "chg_bmi.head()"
   ]
  },
  {
   "cell_type": "code",
   "execution_count": null,
   "id": "852c8011",
   "metadata": {},
   "outputs": [],
   "source": [
    "# will need to convert the 2d dataframe into a list of rows to fit the plotting function\n",
    "# the variables below are just 2d list representations of the variables mentioned above\n",
    "bmipbool_to_list = kmeans_ts_clustering.dataframe_to_list(bmipbool)\n",
    "bmiz_to_list = kmeans_ts_clustering.dataframe_to_list(bmiz)\n",
    "chg_bmiz_to_list = kmeans_ts_clustering.dataframe_to_list(chg_bmiz)\n",
    "percent_chg_bmi_to_list = kmeans_ts_clustering.dataframe_to_list(percent_chg_bmi)\n",
    "chg_bmi_to_list = kmeans_ts_clustering.dataframe_to_list(chg_bmi)\n"
   ]
  },
  {
   "cell_type": "code",
   "execution_count": null,
   "id": "9ac8e531",
   "metadata": {},
   "outputs": [],
   "source": [
    "# optimal k using whether being overweight/obese as the outcome variable\n",
    "bmipbool_k = kmeans_ts_clustering.choose_num_clusters(bmipbool.values, \n",
    "                                                      students, \n",
    "                                                      seed=0)\n",
    "bmipbool_k"
   ]
  },
  {
   "cell_type": "code",
   "execution_count": null,
   "id": "cee345a5",
   "metadata": {},
   "outputs": [],
   "source": [
    "# test for comparing distance metrics\n",
    "kmeans_ts_clustering.compare_dist_metric(bmipbool_k, bmipbool, \n",
    "                                         dist_metric = ['euclidean', 'dtw'], \n",
    "                                         seed=0)"
   ]
  },
  {
   "cell_type": "code",
   "execution_count": null,
   "id": "72a57bd0",
   "metadata": {},
   "outputs": [],
   "source": [
    "# test clustering plots using whether being overweight/obese as the outcome variable\n",
    "bmipbool_labels = kmeans_ts_clustering.plot_kmeans_ts_clustering(bmipbool_to_list, \n",
    "                                                                 \"Whether Overweight/Obese\", \n",
    "                                                                 bmipbool_k,\n",
    "                                                                 dist_metric='euclidean')"
   ]
  },
  {
   "cell_type": "code",
   "execution_count": null,
   "id": "a4dcacc1",
   "metadata": {},
   "outputs": [],
   "source": [
    "# plot the probability of being overweight/obese over time for the generated clusters\n",
    "kmeans_ts_clustering.plot_prob_overweight_for_clusters(bmipbool_k, bmipbool_labels, students)"
   ]
  },
  {
   "cell_type": "code",
   "execution_count": null,
   "id": "4218096b",
   "metadata": {},
   "outputs": [],
   "source": [
    "# Evaluate the performance of the model across different distance metrics using silhouette scores.\n",
    "dist_metric_evals = kmeans_ts_clustering.tune_dist_metric(bmipbool, bmipbool_k, \n",
    "                                                          dist_metric=['euclidean', 'dtw'], \n",
    "                                                          seed=np.arange(100))"
   ]
  },
  {
   "cell_type": "code",
   "execution_count": null,
   "id": "0acc8519",
   "metadata": {},
   "outputs": [],
   "source": [
    "# Plot the mean silhouette scores with 95% confidence intervals across different \n",
    "# distance metrics to visualize which distance metric performs the best. \n",
    "kmeans_ts_clustering.plot_dist_metric_tunning(dist_metric_evals)"
   ]
  },
  {
   "cell_type": "code",
   "execution_count": null,
   "id": "fb9fbbae",
   "metadata": {},
   "outputs": [],
   "source": [
    "# Evaluate the performance of the model across different methods for the initialization of centroids\n",
    "init_evals = kmeans_ts_clustering.tune_initialization(bmipbool, \n",
    "                                                      bmipbool_k, \n",
    "                                                      dist_metric='euclidean', \n",
    "                                                      seed=np.arange(100))"
   ]
  },
  {
   "cell_type": "code",
   "execution_count": null,
   "id": "be564c54",
   "metadata": {},
   "outputs": [],
   "source": [
    "# Plot the mean silhouette scores with 95% confidence intervals across different \n",
    "# initialization methods to visualize which method performs the best.\n",
    "kmeans_ts_clustering.plot_initialization_tunning(init_evals)"
   ]
  },
  {
   "cell_type": "markdown",
   "id": "8ea3a349",
   "metadata": {},
   "source": [
    "# The fine-tuned hyperparameters for K-means Time Series Clustering are:\n",
    "### K = 5 (the number of clusters), distance metric = 'euclidean', and init = 'k-means++' (initialization method)"
   ]
  },
  {
   "cell_type": "code",
   "execution_count": null,
   "id": "5614f63d",
   "metadata": {},
   "outputs": [],
   "source": [
    "# retrain the model using the tuned parameters and the fixed seed 99 for reproducibility\n",
    "cluster_labels = kmeans_ts_clustering.plot_kmeans_ts_clustering(bmipbool_to_list, \n",
    "                                                                \"Whether Overweight/Obese\",\n",
    "                                                                num_clusters=5,\n",
    "                                                                dist_metric='euclidean', \n",
    "                                                                seed=99, \n",
    "                                                                cluster_names=kmeans_ts_clustering.TRAJGPS)"
   ]
  },
  {
   "cell_type": "code",
   "execution_count": null,
   "id": "74395d33",
   "metadata": {},
   "outputs": [],
   "source": [
    "# plot the probability of being overweight/obese over time for the tuned clusters\n",
    "kmeans_ts_clustering.plot_prob_overweight_for_clusters(num_clusters=5, \n",
    "                                                       labels=cluster_labels, \n",
    "                                                       dataset=students, \n",
    "                                                       cluster_names=kmeans_ts_clustering.TRAJGPS)"
   ]
  },
  {
   "cell_type": "code",
   "execution_count": null,
   "id": "bee8cbdf",
   "metadata": {},
   "outputs": [],
   "source": [
    "# Calculate k-means group membership percentages\n",
    "kmeans_ts_clustering.cluster_membership_percent_kmeans(students)"
   ]
  },
  {
   "cell_type": "code",
   "execution_count": null,
   "id": "1ba151d3",
   "metadata": {},
   "outputs": [],
   "source": [
    "# Map GBTM membership labels to k-means membership labels\n",
    "# to maintain consistency for comparison.\n",
    "kmeans_ts_clustering.map_group_cluster(students)"
   ]
  },
  {
   "cell_type": "code",
   "execution_count": null,
   "id": "210c3657",
   "metadata": {},
   "outputs": [],
   "source": [
    "# Calculate GBTM group membership percentages\n",
    "kmeans_ts_clustering.cluster_membership_percent_gbtm(students)"
   ]
  },
  {
   "cell_type": "code",
   "execution_count": null,
   "id": "0f5a40ce",
   "metadata": {},
   "outputs": [],
   "source": [
    "# get a list of observations' distance from k-means centroids by cluster \n",
    "kmeans_dist_from_center_per_cluster = kmeans_ts_clustering.dist_from_center_by_cluster(students)[0]"
   ]
  },
  {
   "cell_type": "code",
   "execution_count": null,
   "id": "adf94e23",
   "metadata": {},
   "outputs": [],
   "source": [
    "# get k-means mean deviation (Euclidean distance) from centers for each cluster\n",
    "kmeans_mean_dist_per_cluster = kmeans_ts_clustering.kmeans_mean_dist_by_cluster(kmeans_dist_from_center_per_cluster)"
   ]
  },
  {
   "cell_type": "code",
   "execution_count": null,
   "id": "baad9740",
   "metadata": {},
   "outputs": [],
   "source": [
    "# get k-means cluster sizes \n",
    "kmeans_cluster_size = kmeans_ts_clustering.kmeans_cluster_sizes(kmeans_dist_from_center_per_cluster)"
   ]
  },
  {
   "cell_type": "code",
   "execution_count": null,
   "id": "5653fd5b",
   "metadata": {},
   "outputs": [],
   "source": [
    "# get k-means standard deviation per cluster\n",
    "kmeans_std_per_cluster = kmeans_ts_clustering.kmeans_std_by_cluster(kmeans_dist_from_center_per_cluster, \n",
    "                                                                    kmeans_mean_dist_per_cluster, \n",
    "                                                                    kmeans_cluster_size)"
   ]
  },
  {
   "cell_type": "code",
   "execution_count": null,
   "id": "9b708b45",
   "metadata": {},
   "outputs": [],
   "source": [
    "# get k-means overall accuracy and accuracy by cluster\n",
    "kmeans_accuracy = kmeans_ts_clustering.kmeans_accuracy(kmeans_dist_from_center_per_cluster, \n",
    "                                                       kmeans_mean_dist_per_cluster, \n",
    "                                                       kmeans_std_per_cluster, \n",
    "                                                       kmeans_cluster_size, students)"
   ]
  },
  {
   "cell_type": "code",
   "execution_count": null,
   "id": "1395cf9d",
   "metadata": {},
   "outputs": [],
   "source": [
    "# get a list of observations' distance from GBTM centroids by cluster \n",
    "gbtm_dist_from_center_per_cluster = kmeans_ts_clustering.dist_from_center_by_cluster(students)[1]"
   ]
  },
  {
   "cell_type": "code",
   "execution_count": null,
   "id": "360a1ede",
   "metadata": {},
   "outputs": [],
   "source": [
    "# get GBTM mean deviation (Euclidean distance) from centers for each cluster\n",
    "gbtm_mean_dist_per_cluster = kmeans_ts_clustering.gbtm_mean_dist_by_cluster(gbtm_dist_from_center_per_cluster)"
   ]
  },
  {
   "cell_type": "code",
   "execution_count": null,
   "id": "b5e2cbcf",
   "metadata": {},
   "outputs": [],
   "source": [
    "# get GBTM cluster sizes \n",
    "gbtm_cluster_size = kmeans_ts_clustering.gbtm_cluster_sizes(gbtm_dist_from_center_per_cluster)"
   ]
  },
  {
   "cell_type": "code",
   "execution_count": null,
   "id": "c69afd3f",
   "metadata": {},
   "outputs": [],
   "source": [
    "# get GBTM standard deviation per cluster\n",
    "gbtm_std_per_cluster = kmeans_ts_clustering.gbtm_std_by_cluster(gbtm_dist_from_center_per_cluster, \n",
    "                                                                gbtm_mean_dist_per_cluster, \n",
    "                                                                gbtm_cluster_size)"
   ]
  },
  {
   "cell_type": "code",
   "execution_count": null,
   "id": "1b1bbaa2",
   "metadata": {},
   "outputs": [],
   "source": [
    "# get GBTM overall accuracy and accuracy by cluster\n",
    "gbtm_accuracy = kmeans_ts_clustering.gbtm_accuracy(gbtm_dist_from_center_per_cluster, \n",
    "                                                   gbtm_mean_dist_per_cluster, \n",
    "                                                   gbtm_std_per_cluster, \n",
    "                                                   gbtm_cluster_size, students)"
   ]
  },
  {
   "cell_type": "code",
   "execution_count": null,
   "id": "6075c71c",
   "metadata": {},
   "outputs": [],
   "source": [
    "# display the accuracy table\n",
    "kmeans_ts_clustering.accuracy_table(kmeans_accuracy, gbtm_accuracy)"
   ]
  },
  {
   "cell_type": "code",
   "execution_count": null,
   "id": "04ccecb8",
   "metadata": {},
   "outputs": [],
   "source": [
    "# plot the trajectory groups of k-means vs. GBTM\n",
    "kmeans_ts_clustering.plot_refined_trajgps(kmeans_ts_clustering.store_trajgps(students))"
   ]
  },
  {
   "cell_type": "code",
   "execution_count": null,
   "id": "f9ad211a",
   "metadata": {},
   "outputs": [],
   "source": []
  }
 ],
 "metadata": {
  "kernelspec": {
   "display_name": "Python 3 (ipykernel)",
   "language": "python",
   "name": "python3"
  },
  "language_info": {
   "codemirror_mode": {
    "name": "ipython",
    "version": 3
   },
   "file_extension": ".py",
   "mimetype": "text/x-python",
   "name": "python",
   "nbconvert_exporter": "python",
   "pygments_lexer": "ipython3",
   "version": "3.8.8"
  }
 },
 "nbformat": 4,
 "nbformat_minor": 5
}
